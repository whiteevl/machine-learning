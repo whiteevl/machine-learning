{
  "nbformat": 4,
  "nbformat_minor": 0,
  "metadata": {
    "colab": {
      "provenance": [],
      "authorship_tag": "ABX9TyMNAZzvSz1mI/9WldZ1rzX+",
      "include_colab_link": true
    },
    "kernelspec": {
      "name": "python3",
      "display_name": "Python 3"
    },
    "language_info": {
      "name": "python"
    }
  },
  "cells": [
    {
      "cell_type": "markdown",
      "metadata": {
        "id": "view-in-github",
        "colab_type": "text"
      },
      "source": [
        "<a href=\"https://colab.research.google.com/github/whiteevl/machine-learning/blob/main/Proyek_Akhir_Klasifikasi_Gambar_Ardey.ipynb\" target=\"_parent\"><img src=\"https://colab.research.google.com/assets/colab-badge.svg\" alt=\"Open In Colab\"/></a>"
      ]
    },
    {
      "cell_type": "code",
      "execution_count": 1,
      "metadata": {
        "colab": {
          "base_uri": "https://localhost:8080/"
        },
        "id": "JiEze_q4qR74",
        "outputId": "bb003621-1a86-4578-9ec5-b399db4182d5"
      },
      "outputs": [
        {
          "output_type": "stream",
          "name": "stdout",
          "text": [
            "Collecting wget\n",
            "  Downloading wget-3.2.zip (10 kB)\n",
            "  Preparing metadata (setup.py) ... \u001b[?25l\u001b[?25hdone\n",
            "Building wheels for collected packages: wget\n",
            "  Building wheel for wget (setup.py) ... \u001b[?25l\u001b[?25hdone\n",
            "  Created wheel for wget: filename=wget-3.2-py3-none-any.whl size=9657 sha256=4efe961004c18db57d1eeec0e37d066cde713893cd9e51124f0bf83baceb9f77\n",
            "  Stored in directory: /root/.cache/pip/wheels/8b/f1/7f/5c94f0a7a505ca1c81cd1d9208ae2064675d97582078e6c769\n",
            "Successfully built wget\n",
            "Installing collected packages: wget\n",
            "Successfully installed wget-3.2\n",
            "Reading package lists... Done\n",
            "Building dependency tree... Done\n",
            "Reading state information... Done\n",
            "wget is already the newest version (1.21.2-2ubuntu1).\n",
            "0 upgraded, 0 newly installed, 0 to remove and 8 not upgraded.\n"
          ]
        }
      ],
      "source": [
        "!pip install wget\n",
        "\n",
        "!apt-get install wget"
      ]
    },
    {
      "cell_type": "code",
      "source": [
        "import wget\n",
        "import zipfile\n",
        "import os\n",
        "import shutil\n",
        "import numpy as np\n",
        "from sklearn.model_selection import train_test_split\n",
        "from tensorflow.keras.preprocessing.image import ImageDataGenerator\n",
        "from tensorflow.keras.models import Sequential\n",
        "from tensorflow.keras.layers import GlobalAveragePooling2D, Dense\n",
        "from tensorflow.keras.optimizers import Adam\n",
        "from tensorflow.keras.callbacks import ModelCheckpoint\n",
        "from tensorflow.keras.preprocessing import image\n",
        "from tensorflow.keras.applications import MobileNetV2\n"
      ],
      "metadata": {
        "id": "XqEZMw2Qrw2R"
      },
      "execution_count": 2,
      "outputs": []
    },
    {
      "cell_type": "code",
      "source": [
        "url = 'https://github.com/dicodingacademy/assets/releases/download/release/rockpaperscissors.zip'\n",
        "\n",
        "wget.download(url, 'rockpaperscissors.zip')\n"
      ],
      "metadata": {
        "colab": {
          "base_uri": "https://localhost:8080/",
          "height": 35
        },
        "id": "vlD1jGefr6d8",
        "outputId": "e7c545cb-bff6-46af-e503-f765c695a37d"
      },
      "execution_count": 3,
      "outputs": [
        {
          "output_type": "execute_result",
          "data": {
            "text/plain": [
              "'rockpaperscissors.zip'"
            ],
            "application/vnd.google.colaboratory.intrinsic+json": {
              "type": "string"
            }
          },
          "metadata": {},
          "execution_count": 3
        }
      ]
    },
    {
      "cell_type": "code",
      "source": [
        "with zipfile.ZipFile('rockpaperscissors.zip', 'r') as zip_ref:\n",
        "    zip_ref.extractall('')"
      ],
      "metadata": {
        "id": "tC3hI9sBsCKl"
      },
      "execution_count": 4,
      "outputs": []
    },
    {
      "cell_type": "code",
      "source": [
        "data_dir = 'rockpaperscissors'\n",
        "train_dir = 'train'\n",
        "val_dir = 'val'"
      ],
      "metadata": {
        "id": "QS4iXz8zsE42"
      },
      "execution_count": 5,
      "outputs": []
    },
    {
      "cell_type": "code",
      "source": [
        "classes = ['rock', 'paper', 'scissors']\n"
      ],
      "metadata": {
        "id": "b4q0BLzcsIpY"
      },
      "execution_count": 6,
      "outputs": []
    },
    {
      "cell_type": "code",
      "source": [
        "os.makedirs(train_dir, exist_ok=True)\n",
        "os.makedirs(val_dir, exist_ok=True)"
      ],
      "metadata": {
        "id": "WhRs5_NWsPEe"
      },
      "execution_count": 7,
      "outputs": []
    },
    {
      "cell_type": "code",
      "source": [
        "for cls in classes:\n",
        "    cls_dir = os.path.join(data_dir, cls)\n",
        "    images = os.listdir(cls_dir)\n",
        "    train_images, val_images = train_test_split(images, test_size=0.4, random_state=42)\n",
        "\n",
        "    train_cls_dir = os.path.join(train_dir, cls)\n",
        "    val_cls_dir = os.path.join(val_dir, cls)\n",
        "\n",
        "    os.makedirs(train_cls_dir, exist_ok=True)\n",
        "    os.makedirs(val_cls_dir, exist_ok=True)\n",
        "\n",
        "    for img in train_images:\n",
        "        src = os.path.join(cls_dir, img)\n",
        "        dest = os.path.join(train_cls_dir, img)\n",
        "        shutil.copy(src, dest)\n",
        "\n",
        "    for img in val_images:\n",
        "        src = os.path.join(cls_dir, img)\n",
        "        dest = os.path.join(val_cls_dir, img)\n",
        "        shutil.copy(src, dest)"
      ],
      "metadata": {
        "id": "4-sXYrRUsPKw"
      },
      "execution_count": 8,
      "outputs": []
    },
    {
      "cell_type": "code",
      "source": [
        "train_datagen = ImageDataGenerator(\n",
        "    rescale=1.0/255.0,\n",
        "    rotation_range=20,\n",
        "    width_shift_range=0.2,\n",
        "    height_shift_range=0.2,\n",
        "    shear_range=0.2,\n",
        "    zoom_range=0.2,\n",
        "    horizontal_flip=True,\n",
        "    fill_mode='nearest'\n",
        ")\n",
        "\n",
        "val_datagen = ImageDataGenerator(rescale=1.0/255.0)\n"
      ],
      "metadata": {
        "id": "51Hz-u8FsYsJ"
      },
      "execution_count": 9,
      "outputs": []
    },
    {
      "cell_type": "code",
      "source": [
        "batch_size = 32\n",
        "img_size = (150, 150)"
      ],
      "metadata": {
        "id": "l-wcsCEFsg0u"
      },
      "execution_count": 10,
      "outputs": []
    },
    {
      "cell_type": "code",
      "source": [
        "train_generator = train_datagen.flow_from_directory(\n",
        "    train_dir,\n",
        "    target_size=img_size,\n",
        "    batch_size=batch_size,\n",
        "    class_mode='categorical'\n",
        ")\n",
        "\n",
        "val_generator = val_datagen.flow_from_directory(\n",
        "    val_dir,\n",
        "    target_size=img_size,\n",
        "    batch_size=batch_size,\n",
        "    class_mode='categorical'\n",
        ")"
      ],
      "metadata": {
        "colab": {
          "base_uri": "https://localhost:8080/"
        },
        "id": "7dBbnDXCsl3n",
        "outputId": "870b285e-db95-4611-81b3-9e115cbda43c"
      },
      "execution_count": 11,
      "outputs": [
        {
          "output_type": "stream",
          "name": "stdout",
          "text": [
            "Found 1312 images belonging to 3 classes.\n",
            "Found 876 images belonging to 3 classes.\n"
          ]
        }
      ]
    },
    {
      "cell_type": "code",
      "source": [
        "base_model = MobileNetV2(weights='imagenet', include_top=False, input_shape=(150, 150, 3))\n",
        "base_model.trainable = False\n",
        "\n",
        "model = Sequential([\n",
        "    base_model,\n",
        "    GlobalAveragePooling2D(),\n",
        "    Dense(512, activation='relu'),\n",
        "    Dense(3, activation='softmax')\n",
        "])"
      ],
      "metadata": {
        "colab": {
          "base_uri": "https://localhost:8080/"
        },
        "id": "aI83zQG8srr3",
        "outputId": "23150f8e-779c-4120-dc22-684af8d719e9"
      },
      "execution_count": 12,
      "outputs": [
        {
          "output_type": "stream",
          "name": "stderr",
          "text": [
            "WARNING:tensorflow:`input_shape` is undefined or non-square, or `rows` is not in [96, 128, 160, 192, 224]. Weights for input shape (224, 224) will be loaded as the default.\n"
          ]
        },
        {
          "output_type": "stream",
          "name": "stdout",
          "text": [
            "Downloading data from https://storage.googleapis.com/tensorflow/keras-applications/mobilenet_v2/mobilenet_v2_weights_tf_dim_ordering_tf_kernels_1.0_224_no_top.h5\n",
            "9406464/9406464 [==============================] - 0s 0us/step\n"
          ]
        }
      ]
    },
    {
      "cell_type": "code",
      "source": [
        "model.compile(loss='categorical_crossentropy',\n",
        "              optimizer=Adam(learning_rate=0.001),\n",
        "              metrics=['accuracy'])"
      ],
      "metadata": {
        "id": "yC_V46ATs9YV"
      },
      "execution_count": 13,
      "outputs": []
    },
    {
      "cell_type": "code",
      "source": [
        "checkpoint = ModelCheckpoint('best_model.h5', save_best_only=True, verbose=1)\n"
      ],
      "metadata": {
        "id": "1NHu3XtNtBqP"
      },
      "execution_count": 14,
      "outputs": []
    },
    {
      "cell_type": "code",
      "source": [
        "history = model.fit(\n",
        "    train_generator,\n",
        "    steps_per_epoch=len(train_generator),\n",
        "    epochs=15,\n",
        "    validation_data=val_generator,\n",
        "    validation_steps=len(val_generator),\n",
        "    callbacks=[checkpoint]\n",
        ")"
      ],
      "metadata": {
        "colab": {
          "base_uri": "https://localhost:8080/"
        },
        "id": "zaktLQTTtExY",
        "outputId": "8cceef65-2302-48b0-f4e5-150b8504aec8"
      },
      "execution_count": null,
      "outputs": [
        {
          "output_type": "stream",
          "name": "stdout",
          "text": [
            "Epoch 1/15\n",
            "41/41 [==============================] - ETA: 0s - loss: 0.5792 - accuracy: 0.8300\n",
            "Epoch 1: val_loss improved from inf to 0.06491, saving model to best_model.h5\n"
          ]
        },
        {
          "output_type": "stream",
          "name": "stderr",
          "text": [
            "/usr/local/lib/python3.10/dist-packages/keras/src/engine/training.py:3000: UserWarning: You are saving your model as an HDF5 file via `model.save()`. This file format is considered legacy. We recommend using instead the native Keras format, e.g. `model.save('my_model.keras')`.\n",
            "  saving_api.save_model(\n"
          ]
        },
        {
          "output_type": "stream",
          "name": "stdout",
          "text": [
            "\b\b\b\b\b\b\b\b\b\b\b\b\b\b\b\b\b\b\b\b\b\b\b\b\b\b\b\b\b\b\b\b\b\b\b\b\b\b\b\b\b\b\b\b\b\b\b\b\b\b\b\b\b\b\b\b\b\b\b\b\b\b\b\b\b\b\b\b\b\b\b\b\b\b\b\b\b\b\b\b\b\b\r41/41 [==============================] - 55s 1s/step - loss: 0.5792 - accuracy: 0.8300 - val_loss: 0.0649 - val_accuracy: 0.9749\n",
            "Epoch 2/15\n",
            "41/41 [==============================] - ETA: 0s - loss: 0.0753 - accuracy: 0.9771\n",
            "Epoch 2: val_loss improved from 0.06491 to 0.03981, saving model to best_model.h5\n",
            "41/41 [==============================] - 50s 1s/step - loss: 0.0753 - accuracy: 0.9771 - val_loss: 0.0398 - val_accuracy: 0.9852\n",
            "Epoch 3/15\n",
            "41/41 [==============================] - ETA: 0s - loss: 0.0777 - accuracy: 0.9726\n",
            "Epoch 3: val_loss improved from 0.03981 to 0.02701, saving model to best_model.h5\n",
            "41/41 [==============================] - 50s 1s/step - loss: 0.0777 - accuracy: 0.9726 - val_loss: 0.0270 - val_accuracy: 0.9886\n",
            "Epoch 4/15\n",
            "41/41 [==============================] - ETA: 0s - loss: 0.0540 - accuracy: 0.9771\n",
            "Epoch 4: val_loss improved from 0.02701 to 0.02263, saving model to best_model.h5\n",
            "41/41 [==============================] - 49s 1s/step - loss: 0.0540 - accuracy: 0.9771 - val_loss: 0.0226 - val_accuracy: 0.9932\n",
            "Epoch 5/15\n",
            "41/41 [==============================] - ETA: 0s - loss: 0.0465 - accuracy: 0.9817\n",
            "Epoch 5: val_loss did not improve from 0.02263\n",
            "41/41 [==============================] - 50s 1s/step - loss: 0.0465 - accuracy: 0.9817 - val_loss: 0.0517 - val_accuracy: 0.9795\n",
            "Epoch 6/15\n",
            "41/41 [==============================] - ETA: 0s - loss: 0.0420 - accuracy: 0.9878\n",
            "Epoch 6: val_loss did not improve from 0.02263\n",
            "41/41 [==============================] - 50s 1s/step - loss: 0.0420 - accuracy: 0.9878 - val_loss: 0.0250 - val_accuracy: 0.9897\n",
            "Epoch 7/15\n",
            "41/41 [==============================] - ETA: 0s - loss: 0.0668 - accuracy: 0.9733\n",
            "Epoch 7: val_loss did not improve from 0.02263\n",
            "41/41 [==============================] - 45s 1s/step - loss: 0.0668 - accuracy: 0.9733 - val_loss: 0.0410 - val_accuracy: 0.9840\n",
            "Epoch 8/15\n",
            "41/41 [==============================] - ETA: 0s - loss: 0.0736 - accuracy: 0.9748\n",
            "Epoch 8: val_loss improved from 0.02263 to 0.01071, saving model to best_model.h5\n",
            "41/41 [==============================] - 44s 1s/step - loss: 0.0736 - accuracy: 0.9748 - val_loss: 0.0107 - val_accuracy: 0.9954\n",
            "Epoch 9/15\n",
            "41/41 [==============================] - ETA: 0s - loss: 0.0520 - accuracy: 0.9825\n",
            "Epoch 9: val_loss did not improve from 0.01071\n",
            "41/41 [==============================] - 51s 1s/step - loss: 0.0520 - accuracy: 0.9825 - val_loss: 0.0349 - val_accuracy: 0.9840\n",
            "Epoch 10/15\n",
            "41/41 [==============================] - ETA: 0s - loss: 0.0530 - accuracy: 0.9809\n",
            "Epoch 10: val_loss did not improve from 0.01071\n",
            "41/41 [==============================] - 44s 1s/step - loss: 0.0530 - accuracy: 0.9809 - val_loss: 0.0113 - val_accuracy: 0.9932\n",
            "Epoch 11/15\n",
            "41/41 [==============================] - ETA: 0s - loss: 0.0724 - accuracy: 0.9771\n",
            "Epoch 11: val_loss improved from 0.01071 to 0.00573, saving model to best_model.h5\n",
            "41/41 [==============================] - 50s 1s/step - loss: 0.0724 - accuracy: 0.9771 - val_loss: 0.0057 - val_accuracy: 1.0000\n",
            "Epoch 12/15\n",
            "41/41 [==============================] - ETA: 0s - loss: 0.0362 - accuracy: 0.9901\n",
            "Epoch 12: val_loss did not improve from 0.00573\n",
            "41/41 [==============================] - 43s 1s/step - loss: 0.0362 - accuracy: 0.9901 - val_loss: 0.0073 - val_accuracy: 0.9977\n",
            "Epoch 13/15\n",
            "41/41 [==============================] - ETA: 0s - loss: 0.0490 - accuracy: 0.9825\n",
            "Epoch 13: val_loss did not improve from 0.00573\n",
            "41/41 [==============================] - 45s 1s/step - loss: 0.0490 - accuracy: 0.9825 - val_loss: 0.0161 - val_accuracy: 0.9943\n",
            "Epoch 14/15\n",
            "41/41 [==============================] - ETA: 0s - loss: 0.0264 - accuracy: 0.9916\n",
            "Epoch 14: val_loss did not improve from 0.00573\n",
            "41/41 [==============================] - 49s 1s/step - loss: 0.0264 - accuracy: 0.9916 - val_loss: 0.0088 - val_accuracy: 0.9966\n",
            "Epoch 15/15\n",
            "41/41 [==============================] - ETA: 0s - loss: 0.0292 - accuracy: 0.9863\n",
            "Epoch 15: val_loss did not improve from 0.00573\n",
            "41/41 [==============================] - 45s 1s/step - loss: 0.0292 - accuracy: 0.9863 - val_loss: 0.0245 - val_accuracy: 0.9886\n"
          ]
        }
      ]
    },
    {
      "cell_type": "code",
      "source": [
        "val_loss, val_acc = model.evaluate(val_generator, verbose=2)\n",
        "print(f'Val accuracy: {val_acc}')"
      ],
      "metadata": {
        "colab": {
          "base_uri": "https://localhost:8080/"
        },
        "id": "BxAUuYJexXKt",
        "outputId": "cd849d01-12f0-458e-f07c-0064062521ad"
      },
      "execution_count": null,
      "outputs": [
        {
          "output_type": "stream",
          "name": "stdout",
          "text": [
            "28/28 - 14s - loss: 0.0245 - accuracy: 0.9886 - 14s/epoch - 515ms/step\n",
            "Val accuracy: 0.9885844588279724\n"
          ]
        }
      ]
    },
    {
      "cell_type": "code",
      "source": [
        "nama = \"Aradea Bayu Murti\"\n",
        "email = \"whiteevilfero@gmail.com\"\n",
        "no_hp = \"6281649488239\"\n",
        "id_dicoding = \"priceofdarkness\"\n",
        "\n",
        "print(f'Nama: {nama}')\n",
        "print(f'Email: {email}')\n",
        "print(f'No. HP: {no_hp}')\n",
        "print(f'ID Dicoding: {id_dicoding}')"
      ],
      "metadata": {
        "colab": {
          "base_uri": "https://localhost:8080/"
        },
        "id": "K8UHzKHzxd18",
        "outputId": "ed8df386-6089-4604-cd00-46460b48f512"
      },
      "execution_count": 15,
      "outputs": [
        {
          "output_type": "stream",
          "name": "stdout",
          "text": [
            "Nama: Aradea Bayu Murti\n",
            "Email: whiteevilfero@gmail.com\n",
            "No. HP: 6281649488239\n",
            "ID Dicoding: priceofdarkness\n"
          ]
        }
      ]
    },
    {
      "cell_type": "code",
      "source": [
        "from google.colab import files\n",
        "uploaded = files.upload()"
      ],
      "metadata": {
        "colab": {
          "base_uri": "https://localhost:8080/",
          "height": 73
        },
        "id": "rOHVAGMBy4Ym",
        "outputId": "d5156a9e-3591-45ad-fb4d-a7950dba68e4"
      },
      "execution_count": null,
      "outputs": [
        {
          "output_type": "display_data",
          "data": {
            "text/plain": [
              "<IPython.core.display.HTML object>"
            ],
            "text/html": [
              "\n",
              "     <input type=\"file\" id=\"files-7486df5b-6c60-4356-93ba-a3a6361ab83c\" name=\"files[]\" multiple disabled\n",
              "        style=\"border:none\" />\n",
              "     <output id=\"result-7486df5b-6c60-4356-93ba-a3a6361ab83c\">\n",
              "      Upload widget is only available when the cell has been executed in the\n",
              "      current browser session. Please rerun this cell to enable.\n",
              "      </output>\n",
              "      <script>// Copyright 2017 Google LLC\n",
              "//\n",
              "// Licensed under the Apache License, Version 2.0 (the \"License\");\n",
              "// you may not use this file except in compliance with the License.\n",
              "// You may obtain a copy of the License at\n",
              "//\n",
              "//      http://www.apache.org/licenses/LICENSE-2.0\n",
              "//\n",
              "// Unless required by applicable law or agreed to in writing, software\n",
              "// distributed under the License is distributed on an \"AS IS\" BASIS,\n",
              "// WITHOUT WARRANTIES OR CONDITIONS OF ANY KIND, either express or implied.\n",
              "// See the License for the specific language governing permissions and\n",
              "// limitations under the License.\n",
              "\n",
              "/**\n",
              " * @fileoverview Helpers for google.colab Python module.\n",
              " */\n",
              "(function(scope) {\n",
              "function span(text, styleAttributes = {}) {\n",
              "  const element = document.createElement('span');\n",
              "  element.textContent = text;\n",
              "  for (const key of Object.keys(styleAttributes)) {\n",
              "    element.style[key] = styleAttributes[key];\n",
              "  }\n",
              "  return element;\n",
              "}\n",
              "\n",
              "// Max number of bytes which will be uploaded at a time.\n",
              "const MAX_PAYLOAD_SIZE = 100 * 1024;\n",
              "\n",
              "function _uploadFiles(inputId, outputId) {\n",
              "  const steps = uploadFilesStep(inputId, outputId);\n",
              "  const outputElement = document.getElementById(outputId);\n",
              "  // Cache steps on the outputElement to make it available for the next call\n",
              "  // to uploadFilesContinue from Python.\n",
              "  outputElement.steps = steps;\n",
              "\n",
              "  return _uploadFilesContinue(outputId);\n",
              "}\n",
              "\n",
              "// This is roughly an async generator (not supported in the browser yet),\n",
              "// where there are multiple asynchronous steps and the Python side is going\n",
              "// to poll for completion of each step.\n",
              "// This uses a Promise to block the python side on completion of each step,\n",
              "// then passes the result of the previous step as the input to the next step.\n",
              "function _uploadFilesContinue(outputId) {\n",
              "  const outputElement = document.getElementById(outputId);\n",
              "  const steps = outputElement.steps;\n",
              "\n",
              "  const next = steps.next(outputElement.lastPromiseValue);\n",
              "  return Promise.resolve(next.value.promise).then((value) => {\n",
              "    // Cache the last promise value to make it available to the next\n",
              "    // step of the generator.\n",
              "    outputElement.lastPromiseValue = value;\n",
              "    return next.value.response;\n",
              "  });\n",
              "}\n",
              "\n",
              "/**\n",
              " * Generator function which is called between each async step of the upload\n",
              " * process.\n",
              " * @param {string} inputId Element ID of the input file picker element.\n",
              " * @param {string} outputId Element ID of the output display.\n",
              " * @return {!Iterable<!Object>} Iterable of next steps.\n",
              " */\n",
              "function* uploadFilesStep(inputId, outputId) {\n",
              "  const inputElement = document.getElementById(inputId);\n",
              "  inputElement.disabled = false;\n",
              "\n",
              "  const outputElement = document.getElementById(outputId);\n",
              "  outputElement.innerHTML = '';\n",
              "\n",
              "  const pickedPromise = new Promise((resolve) => {\n",
              "    inputElement.addEventListener('change', (e) => {\n",
              "      resolve(e.target.files);\n",
              "    });\n",
              "  });\n",
              "\n",
              "  const cancel = document.createElement('button');\n",
              "  inputElement.parentElement.appendChild(cancel);\n",
              "  cancel.textContent = 'Cancel upload';\n",
              "  const cancelPromise = new Promise((resolve) => {\n",
              "    cancel.onclick = () => {\n",
              "      resolve(null);\n",
              "    };\n",
              "  });\n",
              "\n",
              "  // Wait for the user to pick the files.\n",
              "  const files = yield {\n",
              "    promise: Promise.race([pickedPromise, cancelPromise]),\n",
              "    response: {\n",
              "      action: 'starting',\n",
              "    }\n",
              "  };\n",
              "\n",
              "  cancel.remove();\n",
              "\n",
              "  // Disable the input element since further picks are not allowed.\n",
              "  inputElement.disabled = true;\n",
              "\n",
              "  if (!files) {\n",
              "    return {\n",
              "      response: {\n",
              "        action: 'complete',\n",
              "      }\n",
              "    };\n",
              "  }\n",
              "\n",
              "  for (const file of files) {\n",
              "    const li = document.createElement('li');\n",
              "    li.append(span(file.name, {fontWeight: 'bold'}));\n",
              "    li.append(span(\n",
              "        `(${file.type || 'n/a'}) - ${file.size} bytes, ` +\n",
              "        `last modified: ${\n",
              "            file.lastModifiedDate ? file.lastModifiedDate.toLocaleDateString() :\n",
              "                                    'n/a'} - `));\n",
              "    const percent = span('0% done');\n",
              "    li.appendChild(percent);\n",
              "\n",
              "    outputElement.appendChild(li);\n",
              "\n",
              "    const fileDataPromise = new Promise((resolve) => {\n",
              "      const reader = new FileReader();\n",
              "      reader.onload = (e) => {\n",
              "        resolve(e.target.result);\n",
              "      };\n",
              "      reader.readAsArrayBuffer(file);\n",
              "    });\n",
              "    // Wait for the data to be ready.\n",
              "    let fileData = yield {\n",
              "      promise: fileDataPromise,\n",
              "      response: {\n",
              "        action: 'continue',\n",
              "      }\n",
              "    };\n",
              "\n",
              "    // Use a chunked sending to avoid message size limits. See b/62115660.\n",
              "    let position = 0;\n",
              "    do {\n",
              "      const length = Math.min(fileData.byteLength - position, MAX_PAYLOAD_SIZE);\n",
              "      const chunk = new Uint8Array(fileData, position, length);\n",
              "      position += length;\n",
              "\n",
              "      const base64 = btoa(String.fromCharCode.apply(null, chunk));\n",
              "      yield {\n",
              "        response: {\n",
              "          action: 'append',\n",
              "          file: file.name,\n",
              "          data: base64,\n",
              "        },\n",
              "      };\n",
              "\n",
              "      let percentDone = fileData.byteLength === 0 ?\n",
              "          100 :\n",
              "          Math.round((position / fileData.byteLength) * 100);\n",
              "      percent.textContent = `${percentDone}% done`;\n",
              "\n",
              "    } while (position < fileData.byteLength);\n",
              "  }\n",
              "\n",
              "  // All done.\n",
              "  yield {\n",
              "    response: {\n",
              "      action: 'complete',\n",
              "    }\n",
              "  };\n",
              "}\n",
              "\n",
              "scope.google = scope.google || {};\n",
              "scope.google.colab = scope.google.colab || {};\n",
              "scope.google.colab._files = {\n",
              "  _uploadFiles,\n",
              "  _uploadFilesContinue,\n",
              "};\n",
              "})(self);\n",
              "</script> "
            ]
          },
          "metadata": {}
        },
        {
          "output_type": "stream",
          "name": "stdout",
          "text": [
            "Saving download (1).jfif to download (1).jfif\n"
          ]
        }
      ]
    },
    {
      "cell_type": "code",
      "source": [
        "import os\n",
        "os.listdir()"
      ],
      "metadata": {
        "colab": {
          "base_uri": "https://localhost:8080/"
        },
        "id": "sQnBQbkIzCgT",
        "outputId": "2f808805-8711-4abb-e8ea-fb7324fdad7c"
      },
      "execution_count": null,
      "outputs": [
        {
          "output_type": "execute_result",
          "data": {
            "text/plain": [
              "['.config',\n",
              " 'val',\n",
              " 'train',\n",
              " 'rockpaperscissors',\n",
              " 'best_model.h5',\n",
              " 'rockpaperscissors.zip',\n",
              " '__MACOSX',\n",
              " 'download (1).jfif',\n",
              " 'sample_data']"
            ]
          },
          "metadata": {},
          "execution_count": 21
        }
      ]
    },
    {
      "cell_type": "code",
      "source": [
        "image_path = 'download (1).jfif'\n",
        "img = image.load_img(image_path, target_size=img_size)\n",
        "img_array = image.img_to_array(img)\n",
        "img_array = np.expand_dims(img_array, axis=0)\n",
        "img_array /= 255.0  # Rescale pixel values to [0, 1]\n",
        "prediction = model.predict(img_array)\n",
        "predicted_class = classes[np.argmax(prediction)]\n",
        "\n",
        "print(f'Hasil prediksi: {predicted_class}')"
      ],
      "metadata": {
        "colab": {
          "base_uri": "https://localhost:8080/"
        },
        "id": "qCHi4ShyzMch",
        "outputId": "38b35493-315a-4ebb-8aa9-7c0ffab50e19"
      },
      "execution_count": null,
      "outputs": [
        {
          "output_type": "stream",
          "name": "stdout",
          "text": [
            "1/1 [==============================] - 1s 944ms/step\n",
            "Hasil prediksi: paper\n"
          ]
        }
      ]
    }
  ]
}