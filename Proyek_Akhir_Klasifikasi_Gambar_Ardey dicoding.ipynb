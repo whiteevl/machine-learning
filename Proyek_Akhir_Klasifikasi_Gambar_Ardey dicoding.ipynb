{
  "nbformat": 4,
  "nbformat_minor": 0,
  "metadata": {
    "colab": {
      "provenance": [],
      "authorship_tag": "ABX9TyNEaNoukOfQOEHc5Loy/AB8",
      "include_colab_link": true
    },
    "kernelspec": {
      "name": "python3",
      "display_name": "Python 3"
    },
    "language_info": {
      "name": "python"
    }
  },
  "cells": [
    {
      "cell_type": "markdown",
      "metadata": {
        "id": "view-in-github",
        "colab_type": "text"
      },
      "source": [
        "<a href=\"https://colab.research.google.com/github/whiteevl/machine-learning/blob/main/Proyek_Akhir_Klasifikasi_Gambar_Ardey%20dicoding.ipynb\" target=\"_parent\"><img src=\"https://colab.research.google.com/assets/colab-badge.svg\" alt=\"Open In Colab\"/></a>"
      ]
    },
    {
      "cell_type": "code",
      "execution_count": 1,
      "metadata": {
        "colab": {
          "base_uri": "https://localhost:8080/"
        },
        "id": "JiEze_q4qR74",
        "outputId": "78bb473a-b430-47e3-a0cd-72660ba6af80"
      },
      "outputs": [
        {
          "output_type": "stream",
          "name": "stdout",
          "text": [
            "Collecting wget\n",
            "  Downloading wget-3.2.zip (10 kB)\n",
            "  Preparing metadata (setup.py) ... \u001b[?25l\u001b[?25hdone\n",
            "Building wheels for collected packages: wget\n",
            "  Building wheel for wget (setup.py) ... \u001b[?25l\u001b[?25hdone\n",
            "  Created wheel for wget: filename=wget-3.2-py3-none-any.whl size=9657 sha256=30dc47b28fbec6381a6111a751026bbc283858c114318f6a2bfd2848ca96b56b\n",
            "  Stored in directory: /root/.cache/pip/wheels/8b/f1/7f/5c94f0a7a505ca1c81cd1d9208ae2064675d97582078e6c769\n",
            "Successfully built wget\n",
            "Installing collected packages: wget\n",
            "Successfully installed wget-3.2\n",
            "Reading package lists... Done\n",
            "Building dependency tree... Done\n",
            "Reading state information... Done\n",
            "wget is already the newest version (1.21.2-2ubuntu1).\n",
            "0 upgraded, 0 newly installed, 0 to remove and 8 not upgraded.\n"
          ]
        }
      ],
      "source": [
        "!pip install wget\n",
        "\n",
        "!apt-get install wget"
      ]
    },
    {
      "cell_type": "code",
      "source": [
        "import wget\n",
        "import zipfile\n",
        "import os\n",
        "import shutil\n",
        "import numpy as np\n",
        "from sklearn.model_selection import train_test_split\n",
        "from tensorflow.keras.preprocessing.image import ImageDataGenerator\n",
        "from tensorflow.keras.models import Sequential\n",
        "from tensorflow.keras.layers import GlobalAveragePooling2D, Dense\n",
        "from tensorflow.keras.optimizers import Adam\n",
        "from tensorflow.keras.callbacks import ModelCheckpoint\n",
        "from tensorflow.keras.preprocessing import image\n",
        "from tensorflow.keras.applications import MobileNetV2\n"
      ],
      "metadata": {
        "id": "XqEZMw2Qrw2R"
      },
      "execution_count": 2,
      "outputs": []
    },
    {
      "cell_type": "code",
      "source": [
        "url = 'https://github.com/dicodingacademy/assets/releases/download/release/rockpaperscissors.zip'\n",
        "\n",
        "wget.download(url, 'rockpaperscissors.zip')\n"
      ],
      "metadata": {
        "colab": {
          "base_uri": "https://localhost:8080/",
          "height": 35
        },
        "id": "vlD1jGefr6d8",
        "outputId": "51fbf6a3-8522-48c4-b352-ddb4753d91a2"
      },
      "execution_count": 3,
      "outputs": [
        {
          "output_type": "execute_result",
          "data": {
            "text/plain": [
              "'rockpaperscissors.zip'"
            ],
            "application/vnd.google.colaboratory.intrinsic+json": {
              "type": "string"
            }
          },
          "metadata": {},
          "execution_count": 3
        }
      ]
    },
    {
      "cell_type": "code",
      "source": [
        "with zipfile.ZipFile('rockpaperscissors.zip', 'r') as zip_ref:\n",
        "    zip_ref.extractall('')"
      ],
      "metadata": {
        "id": "tC3hI9sBsCKl"
      },
      "execution_count": 4,
      "outputs": []
    },
    {
      "cell_type": "code",
      "source": [
        "data_dir = 'rockpaperscissors'\n",
        "train_dir = 'train'\n",
        "val_dir = 'val'"
      ],
      "metadata": {
        "id": "QS4iXz8zsE42"
      },
      "execution_count": 5,
      "outputs": []
    },
    {
      "cell_type": "code",
      "source": [
        "classes = ['rock', 'paper', 'scissors']\n"
      ],
      "metadata": {
        "id": "b4q0BLzcsIpY"
      },
      "execution_count": 6,
      "outputs": []
    },
    {
      "cell_type": "code",
      "source": [
        "os.makedirs(train_dir, exist_ok=True)\n",
        "os.makedirs(val_dir, exist_ok=True)"
      ],
      "metadata": {
        "id": "WhRs5_NWsPEe"
      },
      "execution_count": 7,
      "outputs": []
    },
    {
      "cell_type": "code",
      "source": [
        "for cls in classes:\n",
        "    cls_dir = os.path.join(data_dir, cls)\n",
        "    images = os.listdir(cls_dir)\n",
        "    train_images, val_images = train_test_split(images, test_size=0.4, random_state=42)\n",
        "\n",
        "    train_cls_dir = os.path.join(train_dir, cls)\n",
        "    val_cls_dir = os.path.join(val_dir, cls)\n",
        "\n",
        "    os.makedirs(train_cls_dir, exist_ok=True)\n",
        "    os.makedirs(val_cls_dir, exist_ok=True)\n",
        "\n",
        "    for img in train_images:\n",
        "        src = os.path.join(cls_dir, img)\n",
        "        dest = os.path.join(train_cls_dir, img)\n",
        "        shutil.copy(src, dest)\n",
        "\n",
        "    for img in val_images:\n",
        "        src = os.path.join(cls_dir, img)\n",
        "        dest = os.path.join(val_cls_dir, img)\n",
        "        shutil.copy(src, dest)"
      ],
      "metadata": {
        "id": "4-sXYrRUsPKw"
      },
      "execution_count": 8,
      "outputs": []
    },
    {
      "cell_type": "code",
      "source": [
        "train_datagen = ImageDataGenerator(\n",
        "    rescale=1.0/255.0,\n",
        "    rotation_range=20,\n",
        "    width_shift_range=0.2,\n",
        "    height_shift_range=0.2,\n",
        "    shear_range=0.2,\n",
        "    zoom_range=0.2,\n",
        "    horizontal_flip=True,\n",
        "    fill_mode='nearest'\n",
        ")\n",
        "\n",
        "val_datagen = ImageDataGenerator(rescale=1.0/255.0)\n"
      ],
      "metadata": {
        "id": "51Hz-u8FsYsJ"
      },
      "execution_count": 9,
      "outputs": []
    },
    {
      "cell_type": "code",
      "source": [
        "batch_size = 32\n",
        "img_size = (150, 150)"
      ],
      "metadata": {
        "id": "l-wcsCEFsg0u"
      },
      "execution_count": 10,
      "outputs": []
    },
    {
      "cell_type": "code",
      "source": [
        "train_generator = train_datagen.flow_from_directory(\n",
        "    train_dir,\n",
        "    target_size=img_size,\n",
        "    batch_size=batch_size,\n",
        "    class_mode='categorical'\n",
        ")\n",
        "\n",
        "val_generator = val_datagen.flow_from_directory(\n",
        "    val_dir,\n",
        "    target_size=img_size,\n",
        "    batch_size=batch_size,\n",
        "    class_mode='categorical'\n",
        ")"
      ],
      "metadata": {
        "colab": {
          "base_uri": "https://localhost:8080/"
        },
        "id": "7dBbnDXCsl3n",
        "outputId": "c9982317-7506-4552-86f8-2a91e81591f4"
      },
      "execution_count": 11,
      "outputs": [
        {
          "output_type": "stream",
          "name": "stdout",
          "text": [
            "Found 1312 images belonging to 3 classes.\n",
            "Found 876 images belonging to 3 classes.\n"
          ]
        }
      ]
    },
    {
      "cell_type": "code",
      "source": [
        "base_model = MobileNetV2(weights='imagenet', include_top=False, input_shape=(150, 150, 3))\n",
        "base_model.trainable = False\n",
        "\n",
        "model = Sequential([\n",
        "    base_model,\n",
        "    GlobalAveragePooling2D(),\n",
        "    Dense(512, activation='relu'),\n",
        "    Dense(3, activation='softmax')\n",
        "])"
      ],
      "metadata": {
        "colab": {
          "base_uri": "https://localhost:8080/"
        },
        "id": "aI83zQG8srr3",
        "outputId": "4f7b73d0-152f-4a3f-a697-3f2626450321"
      },
      "execution_count": 12,
      "outputs": [
        {
          "output_type": "stream",
          "name": "stderr",
          "text": [
            "WARNING:tensorflow:`input_shape` is undefined or non-square, or `rows` is not in [96, 128, 160, 192, 224]. Weights for input shape (224, 224) will be loaded as the default.\n"
          ]
        },
        {
          "output_type": "stream",
          "name": "stdout",
          "text": [
            "Downloading data from https://storage.googleapis.com/tensorflow/keras-applications/mobilenet_v2/mobilenet_v2_weights_tf_dim_ordering_tf_kernels_1.0_224_no_top.h5\n",
            "9406464/9406464 [==============================] - 0s 0us/step\n"
          ]
        }
      ]
    },
    {
      "cell_type": "code",
      "source": [
        "model.compile(loss='categorical_crossentropy',\n",
        "              optimizer=Adam(learning_rate=0.001),\n",
        "              metrics=['accuracy'])"
      ],
      "metadata": {
        "id": "yC_V46ATs9YV"
      },
      "execution_count": 13,
      "outputs": []
    },
    {
      "cell_type": "code",
      "source": [
        "checkpoint = ModelCheckpoint('best_model.h5', save_best_only=True, verbose=1)\n"
      ],
      "metadata": {
        "id": "1NHu3XtNtBqP"
      },
      "execution_count": 14,
      "outputs": []
    },
    {
      "cell_type": "code",
      "source": [
        "history = model.fit(\n",
        "    train_generator,\n",
        "    steps_per_epoch=len(train_generator),\n",
        "    epochs=15,\n",
        "    validation_data=val_generator,\n",
        "    validation_steps=len(val_generator),\n",
        "    callbacks=[checkpoint]\n",
        ")"
      ],
      "metadata": {
        "colab": {
          "base_uri": "https://localhost:8080/"
        },
        "id": "zaktLQTTtExY",
        "outputId": "f13df0c5-7dba-49b0-d8ca-780b4b28c549"
      },
      "execution_count": 15,
      "outputs": [
        {
          "output_type": "stream",
          "name": "stdout",
          "text": [
            "Epoch 1/15\n",
            "41/41 [==============================] - ETA: 0s - loss: 0.4000 - accuracy: 0.8674\n",
            "Epoch 1: val_loss improved from inf to 0.06113, saving model to best_model.h5\n"
          ]
        },
        {
          "output_type": "stream",
          "name": "stderr",
          "text": [
            "/usr/local/lib/python3.10/dist-packages/keras/src/engine/training.py:3079: UserWarning: You are saving your model as an HDF5 file via `model.save()`. This file format is considered legacy. We recommend using instead the native Keras format, e.g. `model.save('my_model.keras')`.\n",
            "  saving_api.save_model(\n"
          ]
        },
        {
          "output_type": "stream",
          "name": "stdout",
          "text": [
            "\b\b\b\b\b\b\b\b\b\b\b\b\b\b\b\b\b\b\b\b\b\b\b\b\b\b\b\b\b\b\b\b\b\b\b\b\b\b\b\b\b\b\b\b\b\b\b\b\b\b\b\b\b\b\b\b\b\b\b\b\b\b\b\b\b\b\b\b\b\b\b\b\b\b\b\b\b\b\b\b\b\b\r41/41 [==============================] - 52s 1s/step - loss: 0.4000 - accuracy: 0.8674 - val_loss: 0.0611 - val_accuracy: 0.9817\n",
            "Epoch 2/15\n",
            "41/41 [==============================] - ETA: 0s - loss: 0.0782 - accuracy: 0.9710\n",
            "Epoch 2: val_loss improved from 0.06113 to 0.04740, saving model to best_model.h5\n",
            "41/41 [==============================] - 46s 1s/step - loss: 0.0782 - accuracy: 0.9710 - val_loss: 0.0474 - val_accuracy: 0.9863\n",
            "Epoch 3/15\n",
            "41/41 [==============================] - ETA: 0s - loss: 0.0717 - accuracy: 0.9756\n",
            "Epoch 3: val_loss did not improve from 0.04740\n",
            "41/41 [==============================] - 39s 965ms/step - loss: 0.0717 - accuracy: 0.9756 - val_loss: 0.0524 - val_accuracy: 0.9829\n",
            "Epoch 4/15\n",
            "41/41 [==============================] - ETA: 0s - loss: 0.0814 - accuracy: 0.9710\n",
            "Epoch 4: val_loss did not improve from 0.04740\n",
            "41/41 [==============================] - 38s 941ms/step - loss: 0.0814 - accuracy: 0.9710 - val_loss: 0.0534 - val_accuracy: 0.9829\n",
            "Epoch 5/15\n",
            "41/41 [==============================] - ETA: 0s - loss: 0.0375 - accuracy: 0.9878\n",
            "Epoch 5: val_loss improved from 0.04740 to 0.03077, saving model to best_model.h5\n",
            "41/41 [==============================] - 38s 921ms/step - loss: 0.0375 - accuracy: 0.9878 - val_loss: 0.0308 - val_accuracy: 0.9886\n",
            "Epoch 6/15\n",
            "41/41 [==============================] - ETA: 0s - loss: 0.0575 - accuracy: 0.9787\n",
            "Epoch 6: val_loss did not improve from 0.03077\n",
            "41/41 [==============================] - 50s 1s/step - loss: 0.0575 - accuracy: 0.9787 - val_loss: 0.0360 - val_accuracy: 0.9909\n",
            "Epoch 7/15\n",
            "41/41 [==============================] - ETA: 0s - loss: 0.0536 - accuracy: 0.9809\n",
            "Epoch 7: val_loss did not improve from 0.03077\n",
            "41/41 [==============================] - 47s 1s/step - loss: 0.0536 - accuracy: 0.9809 - val_loss: 0.0405 - val_accuracy: 0.9874\n",
            "Epoch 8/15\n",
            "41/41 [==============================] - ETA: 0s - loss: 0.0529 - accuracy: 0.9809\n",
            "Epoch 8: val_loss did not improve from 0.03077\n",
            "41/41 [==============================] - 47s 1s/step - loss: 0.0529 - accuracy: 0.9809 - val_loss: 0.0490 - val_accuracy: 0.9874\n",
            "Epoch 9/15\n",
            "41/41 [==============================] - ETA: 0s - loss: 0.0414 - accuracy: 0.9863\n",
            "Epoch 9: val_loss improved from 0.03077 to 0.03005, saving model to best_model.h5\n",
            "41/41 [==============================] - 40s 987ms/step - loss: 0.0414 - accuracy: 0.9863 - val_loss: 0.0300 - val_accuracy: 0.9909\n",
            "Epoch 10/15\n",
            "41/41 [==============================] - ETA: 0s - loss: 0.0299 - accuracy: 0.9870\n",
            "Epoch 10: val_loss did not improve from 0.03005\n",
            "41/41 [==============================] - 46s 1s/step - loss: 0.0299 - accuracy: 0.9870 - val_loss: 0.0398 - val_accuracy: 0.9897\n",
            "Epoch 11/15\n",
            "41/41 [==============================] - ETA: 0s - loss: 0.0320 - accuracy: 0.9893\n",
            "Epoch 11: val_loss improved from 0.03005 to 0.02962, saving model to best_model.h5\n",
            "41/41 [==============================] - 47s 1s/step - loss: 0.0320 - accuracy: 0.9893 - val_loss: 0.0296 - val_accuracy: 0.9932\n",
            "Epoch 12/15\n",
            "41/41 [==============================] - ETA: 0s - loss: 0.0365 - accuracy: 0.9870\n",
            "Epoch 12: val_loss improved from 0.02962 to 0.02468, saving model to best_model.h5\n",
            "41/41 [==============================] - 47s 1s/step - loss: 0.0365 - accuracy: 0.9870 - val_loss: 0.0247 - val_accuracy: 0.9909\n",
            "Epoch 13/15\n",
            "41/41 [==============================] - ETA: 0s - loss: 0.0544 - accuracy: 0.9832\n",
            "Epoch 13: val_loss did not improve from 0.02468\n",
            "41/41 [==============================] - 47s 1s/step - loss: 0.0544 - accuracy: 0.9832 - val_loss: 0.0407 - val_accuracy: 0.9863\n",
            "Epoch 14/15\n",
            "41/41 [==============================] - ETA: 0s - loss: 0.0307 - accuracy: 0.9893\n",
            "Epoch 14: val_loss did not improve from 0.02468\n",
            "41/41 [==============================] - 47s 1s/step - loss: 0.0307 - accuracy: 0.9893 - val_loss: 0.0424 - val_accuracy: 0.9886\n",
            "Epoch 15/15\n",
            "41/41 [==============================] - ETA: 0s - loss: 0.0461 - accuracy: 0.9855\n",
            "Epoch 15: val_loss did not improve from 0.02468\n",
            "41/41 [==============================] - 56s 1s/step - loss: 0.0461 - accuracy: 0.9855 - val_loss: 0.0670 - val_accuracy: 0.9840\n"
          ]
        }
      ]
    },
    {
      "cell_type": "code",
      "source": [
        "val_loss, val_acc = model.evaluate(val_generator, verbose=2)\n",
        "print(f'Val accuracy: {val_acc}')"
      ],
      "metadata": {
        "colab": {
          "base_uri": "https://localhost:8080/"
        },
        "id": "BxAUuYJexXKt",
        "outputId": "555795db-72b7-4bc9-831b-a41e5af12617"
      },
      "execution_count": 16,
      "outputs": [
        {
          "output_type": "stream",
          "name": "stdout",
          "text": [
            "28/28 - 13s - loss: 0.0670 - accuracy: 0.9840 - 13s/epoch - 478ms/step\n",
            "Val accuracy: 0.9840182662010193\n"
          ]
        }
      ]
    },
    {
      "cell_type": "code",
      "source": [
        "nama = \"Aradea Bayu Murti\"\n",
        "email = \"whiteevilfero@gmail.com\"\n",
        "no_hp = \"6281649488239\"\n",
        "id_dicoding = \"priceofdarkness\"\n",
        "\n",
        "print(f'Nama: {nama}')\n",
        "print(f'Email: {email}')\n",
        "print(f'No. HP: {no_hp}')\n",
        "print(f'ID Dicoding: {id_dicoding}')"
      ],
      "metadata": {
        "colab": {
          "base_uri": "https://localhost:8080/"
        },
        "id": "K8UHzKHzxd18",
        "outputId": "0e761a7e-1794-497e-aa4b-d5aca20288f3"
      },
      "execution_count": 17,
      "outputs": [
        {
          "output_type": "stream",
          "name": "stdout",
          "text": [
            "Nama: Aradea Bayu Murti\n",
            "Email: whiteevilfero@gmail.com\n",
            "No. HP: 6281649488239\n",
            "ID Dicoding: priceofdarkness\n"
          ]
        }
      ]
    },
    {
      "cell_type": "code",
      "source": [
        "from google.colab import files\n",
        "uploaded = files.upload()"
      ],
      "metadata": {
        "colab": {
          "base_uri": "https://localhost:8080/",
          "height": 73
        },
        "id": "rOHVAGMBy4Ym",
        "outputId": "0656bd90-0706-416e-dda2-ac887ef56383"
      },
      "execution_count": 19,
      "outputs": [
        {
          "output_type": "display_data",
          "data": {
            "text/plain": [
              "<IPython.core.display.HTML object>"
            ],
            "text/html": [
              "\n",
              "     <input type=\"file\" id=\"files-759bd0b6-2df8-40f7-b9c0-fc1944d6b982\" name=\"files[]\" multiple disabled\n",
              "        style=\"border:none\" />\n",
              "     <output id=\"result-759bd0b6-2df8-40f7-b9c0-fc1944d6b982\">\n",
              "      Upload widget is only available when the cell has been executed in the\n",
              "      current browser session. Please rerun this cell to enable.\n",
              "      </output>\n",
              "      <script>// Copyright 2017 Google LLC\n",
              "//\n",
              "// Licensed under the Apache License, Version 2.0 (the \"License\");\n",
              "// you may not use this file except in compliance with the License.\n",
              "// You may obtain a copy of the License at\n",
              "//\n",
              "//      http://www.apache.org/licenses/LICENSE-2.0\n",
              "//\n",
              "// Unless required by applicable law or agreed to in writing, software\n",
              "// distributed under the License is distributed on an \"AS IS\" BASIS,\n",
              "// WITHOUT WARRANTIES OR CONDITIONS OF ANY KIND, either express or implied.\n",
              "// See the License for the specific language governing permissions and\n",
              "// limitations under the License.\n",
              "\n",
              "/**\n",
              " * @fileoverview Helpers for google.colab Python module.\n",
              " */\n",
              "(function(scope) {\n",
              "function span(text, styleAttributes = {}) {\n",
              "  const element = document.createElement('span');\n",
              "  element.textContent = text;\n",
              "  for (const key of Object.keys(styleAttributes)) {\n",
              "    element.style[key] = styleAttributes[key];\n",
              "  }\n",
              "  return element;\n",
              "}\n",
              "\n",
              "// Max number of bytes which will be uploaded at a time.\n",
              "const MAX_PAYLOAD_SIZE = 100 * 1024;\n",
              "\n",
              "function _uploadFiles(inputId, outputId) {\n",
              "  const steps = uploadFilesStep(inputId, outputId);\n",
              "  const outputElement = document.getElementById(outputId);\n",
              "  // Cache steps on the outputElement to make it available for the next call\n",
              "  // to uploadFilesContinue from Python.\n",
              "  outputElement.steps = steps;\n",
              "\n",
              "  return _uploadFilesContinue(outputId);\n",
              "}\n",
              "\n",
              "// This is roughly an async generator (not supported in the browser yet),\n",
              "// where there are multiple asynchronous steps and the Python side is going\n",
              "// to poll for completion of each step.\n",
              "// This uses a Promise to block the python side on completion of each step,\n",
              "// then passes the result of the previous step as the input to the next step.\n",
              "function _uploadFilesContinue(outputId) {\n",
              "  const outputElement = document.getElementById(outputId);\n",
              "  const steps = outputElement.steps;\n",
              "\n",
              "  const next = steps.next(outputElement.lastPromiseValue);\n",
              "  return Promise.resolve(next.value.promise).then((value) => {\n",
              "    // Cache the last promise value to make it available to the next\n",
              "    // step of the generator.\n",
              "    outputElement.lastPromiseValue = value;\n",
              "    return next.value.response;\n",
              "  });\n",
              "}\n",
              "\n",
              "/**\n",
              " * Generator function which is called between each async step of the upload\n",
              " * process.\n",
              " * @param {string} inputId Element ID of the input file picker element.\n",
              " * @param {string} outputId Element ID of the output display.\n",
              " * @return {!Iterable<!Object>} Iterable of next steps.\n",
              " */\n",
              "function* uploadFilesStep(inputId, outputId) {\n",
              "  const inputElement = document.getElementById(inputId);\n",
              "  inputElement.disabled = false;\n",
              "\n",
              "  const outputElement = document.getElementById(outputId);\n",
              "  outputElement.innerHTML = '';\n",
              "\n",
              "  const pickedPromise = new Promise((resolve) => {\n",
              "    inputElement.addEventListener('change', (e) => {\n",
              "      resolve(e.target.files);\n",
              "    });\n",
              "  });\n",
              "\n",
              "  const cancel = document.createElement('button');\n",
              "  inputElement.parentElement.appendChild(cancel);\n",
              "  cancel.textContent = 'Cancel upload';\n",
              "  const cancelPromise = new Promise((resolve) => {\n",
              "    cancel.onclick = () => {\n",
              "      resolve(null);\n",
              "    };\n",
              "  });\n",
              "\n",
              "  // Wait for the user to pick the files.\n",
              "  const files = yield {\n",
              "    promise: Promise.race([pickedPromise, cancelPromise]),\n",
              "    response: {\n",
              "      action: 'starting',\n",
              "    }\n",
              "  };\n",
              "\n",
              "  cancel.remove();\n",
              "\n",
              "  // Disable the input element since further picks are not allowed.\n",
              "  inputElement.disabled = true;\n",
              "\n",
              "  if (!files) {\n",
              "    return {\n",
              "      response: {\n",
              "        action: 'complete',\n",
              "      }\n",
              "    };\n",
              "  }\n",
              "\n",
              "  for (const file of files) {\n",
              "    const li = document.createElement('li');\n",
              "    li.append(span(file.name, {fontWeight: 'bold'}));\n",
              "    li.append(span(\n",
              "        `(${file.type || 'n/a'}) - ${file.size} bytes, ` +\n",
              "        `last modified: ${\n",
              "            file.lastModifiedDate ? file.lastModifiedDate.toLocaleDateString() :\n",
              "                                    'n/a'} - `));\n",
              "    const percent = span('0% done');\n",
              "    li.appendChild(percent);\n",
              "\n",
              "    outputElement.appendChild(li);\n",
              "\n",
              "    const fileDataPromise = new Promise((resolve) => {\n",
              "      const reader = new FileReader();\n",
              "      reader.onload = (e) => {\n",
              "        resolve(e.target.result);\n",
              "      };\n",
              "      reader.readAsArrayBuffer(file);\n",
              "    });\n",
              "    // Wait for the data to be ready.\n",
              "    let fileData = yield {\n",
              "      promise: fileDataPromise,\n",
              "      response: {\n",
              "        action: 'continue',\n",
              "      }\n",
              "    };\n",
              "\n",
              "    // Use a chunked sending to avoid message size limits. See b/62115660.\n",
              "    let position = 0;\n",
              "    do {\n",
              "      const length = Math.min(fileData.byteLength - position, MAX_PAYLOAD_SIZE);\n",
              "      const chunk = new Uint8Array(fileData, position, length);\n",
              "      position += length;\n",
              "\n",
              "      const base64 = btoa(String.fromCharCode.apply(null, chunk));\n",
              "      yield {\n",
              "        response: {\n",
              "          action: 'append',\n",
              "          file: file.name,\n",
              "          data: base64,\n",
              "        },\n",
              "      };\n",
              "\n",
              "      let percentDone = fileData.byteLength === 0 ?\n",
              "          100 :\n",
              "          Math.round((position / fileData.byteLength) * 100);\n",
              "      percent.textContent = `${percentDone}% done`;\n",
              "\n",
              "    } while (position < fileData.byteLength);\n",
              "  }\n",
              "\n",
              "  // All done.\n",
              "  yield {\n",
              "    response: {\n",
              "      action: 'complete',\n",
              "    }\n",
              "  };\n",
              "}\n",
              "\n",
              "scope.google = scope.google || {};\n",
              "scope.google.colab = scope.google.colab || {};\n",
              "scope.google.colab._files = {\n",
              "  _uploadFiles,\n",
              "  _uploadFilesContinue,\n",
              "};\n",
              "})(self);\n",
              "</script> "
            ]
          },
          "metadata": {}
        },
        {
          "output_type": "stream",
          "name": "stdout",
          "text": [
            "Saving WhatsApp Image 2023-03-10 at 9.59.57 PM.jpeg to WhatsApp Image 2023-03-10 at 9.59.57 PM.jpeg\n"
          ]
        }
      ]
    },
    {
      "cell_type": "code",
      "source": [
        "import os\n",
        "os.listdir()"
      ],
      "metadata": {
        "colab": {
          "base_uri": "https://localhost:8080/"
        },
        "id": "sQnBQbkIzCgT",
        "outputId": "f8d98f7c-8547-4ba0-a7ef-e538329d470f"
      },
      "execution_count": 20,
      "outputs": [
        {
          "output_type": "execute_result",
          "data": {
            "text/plain": [
              "['.config',\n",
              " 'best_model.h5',\n",
              " 'val',\n",
              " 'rockpaperscissors',\n",
              " 'WhatsApp Image 2023-03-10 at 9.59.57 PM.jpeg',\n",
              " 'rockpaperscissors.zip',\n",
              " 'train',\n",
              " '__MACOSX',\n",
              " 'sample_data']"
            ]
          },
          "metadata": {},
          "execution_count": 20
        }
      ]
    },
    {
      "cell_type": "code",
      "source": [
        "image_path = 'WhatsApp Image 2023-03-10 at 9.59.57 PM.jpeg'\n",
        "img = image.load_img(image_path, target_size=img_size)\n",
        "img_array = image.img_to_array(img)\n",
        "img_array = np.expand_dims(img_array, axis=0)\n",
        "img_array /= 255.0  # Rescale pixel values to [0, 1]\n",
        "prediction = model.predict(img_array)\n",
        "predicted_class = classes[np.argmax(prediction)]\n",
        "\n",
        "print(f'Hasil prediksi: {predicted_class}')"
      ],
      "metadata": {
        "colab": {
          "base_uri": "https://localhost:8080/"
        },
        "id": "qCHi4ShyzMch",
        "outputId": "cbce3076-7e82-44f2-a64a-69e4a1000c5e"
      },
      "execution_count": 21,
      "outputs": [
        {
          "output_type": "stream",
          "name": "stdout",
          "text": [
            "1/1 [==============================] - 1s 1s/step\n",
            "Hasil prediksi: paper\n"
          ]
        }
      ]
    }
  ]
}